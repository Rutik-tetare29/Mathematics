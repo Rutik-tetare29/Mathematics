{
 "cells": [
  {
   "cell_type": "markdown",
   "metadata": {},
   "source": [
    "# PROBABILITY"
   ]
  },
  {
   "cell_type": "markdown",
   "metadata": {},
   "source": [
    "### 26/1/25 -- Random Variable"
   ]
  },
  {
   "cell_type": "code",
   "execution_count": 1,
   "metadata": {},
   "outputs": [
    {
     "name": "stdout",
     "output_type": "stream",
     "text": [
      "Random variable outcome: 4\n"
     ]
    }
   ],
   "source": [
    "import random\n",
    "\n",
    "# Simulating a random variable: Rolling a die\n",
    "die_roll = random.randint(1, 6)\n",
    "print(f\"Random variable outcome: {die_roll}\")\n"
   ]
  },
  {
   "cell_type": "markdown",
   "metadata": {},
   "source": [
    "### Probability"
   ]
  },
  {
   "cell_type": "code",
   "execution_count": 2,
   "metadata": {},
   "outputs": [
    {
     "name": "stdout",
     "output_type": "stream",
     "text": [
      "Probability of rolling a 3: 0.16666666666666666\n"
     ]
    }
   ],
   "source": [
    "favorable_outcomes = 1\n",
    "total_outcomes = 6\n",
    "probability = favorable_outcomes / total_outcomes\n",
    "print(f\"Probability of rolling a 3: {probability}\")  \n"
   ]
  },
  {
   "cell_type": "markdown",
   "metadata": {},
   "source": [
    "### Conditional Probability"
   ]
  },
  {
   "cell_type": "code",
   "execution_count": 3,
   "metadata": {},
   "outputs": [
    {
     "name": "stdout",
     "output_type": "stream",
     "text": [
      "Conditional Probability (P(Heart | Red)): 0.5\n"
     ]
    }
   ],
   "source": [
    "# Example: Probability of drawing a red card given that it's a heart\n",
    "total_cards = 52\n",
    "red_cards = 26\n",
    "hearts = 13\n",
    "\n",
    "# P(Heart | Red)\n",
    "P_heart_given_red = hearts / red_cards\n",
    "print(f\"Conditional Probability (P(Heart | Red)): {P_heart_given_red}\")\n"
   ]
  },
  {
   "cell_type": "markdown",
   "metadata": {},
   "source": [
    "### 27/1/25 -- Joint Probability"
   ]
  },
  {
   "cell_type": "code",
   "execution_count": 4,
   "metadata": {},
   "outputs": [
    {
     "name": "stdout",
     "output_type": "stream",
     "text": [
      "Joint Probability of rolling a 3 and flipping heads: 0.08333333333333333\n"
     ]
    }
   ],
   "source": [
    "# Example: Probability of rolling a 3 and flipping heads\n",
    "P_roll_3 = 1 / 6\n",
    "P_heads = 1 / 2\n",
    "\n",
    "# Joint probability (independent events)\n",
    "P_joint = P_roll_3 * P_heads\n",
    "print(f\"Joint Probability of rolling a 3 and flipping heads: {P_joint}\")\n"
   ]
  },
  {
   "cell_type": "markdown",
   "metadata": {},
   "source": [
    "### Bayes' Theorem"
   ]
  },
  {
   "cell_type": "code",
   "execution_count": 5,
   "metadata": {},
   "outputs": [
    {
     "name": "stdout",
     "output_type": "stream",
     "text": [
      "Probability of disease given a positive test: 0.475\n"
     ]
    }
   ],
   "source": [
    "# Example: Diagnosing a disease\n",
    "P_disease = 0.01  # Prior probability of having the disease\n",
    "P_positive_given_disease = 0.95  # Test accuracy if disease present\n",
    "P_positive = 0.02  # Probability of a positive test\n",
    "\n",
    "# Using Bayes' theorem\n",
    "P_disease_given_positive = (P_positive_given_disease * P_disease) / P_positive\n",
    "print(f\"Probability of disease given a positive test: {P_disease_given_positive}\")\n"
   ]
  },
  {
   "cell_type": "markdown",
   "metadata": {},
   "source": [
    "### Expectation (Mean)"
   ]
  },
  {
   "cell_type": "code",
   "execution_count": 6,
   "metadata": {},
   "outputs": [
    {
     "name": "stdout",
     "output_type": "stream",
     "text": [
      "Expected value of a die roll: 3.5\n"
     ]
    }
   ],
   "source": [
    "# Example: Expected value of a die roll\n",
    "outcomes = [1, 2, 3, 4, 5, 6]\n",
    "probabilities = [1/6] * 6  # Uniform distribution\n",
    "\n",
    "# Expectation\n",
    "expectation = sum(x * p for x, p in zip(outcomes, probabilities))\n",
    "print(f\"Expected value of a die roll: {expectation}\")  \n"
   ]
  },
  {
   "cell_type": "markdown",
   "metadata": {},
   "source": [
    "### Variance"
   ]
  },
  {
   "cell_type": "code",
   "execution_count": 7,
   "metadata": {},
   "outputs": [
    {
     "name": "stdout",
     "output_type": "stream",
     "text": [
      "Variance of a die roll: 2.9166666666666665\n"
     ]
    }
   ],
   "source": [
    "# Variance of a die roll\n",
    "mean = expectation\n",
    "variance = sum(p * ((x - mean) ** 2) for x, p in zip(outcomes, probabilities))\n",
    "print(f\"Variance of a die roll: {variance}\")  # Output: 2.9167\n"
   ]
  },
  {
   "cell_type": "markdown",
   "metadata": {},
   "source": [
    "### Standard Deviation"
   ]
  },
  {
   "cell_type": "code",
   "execution_count": 8,
   "metadata": {},
   "outputs": [
    {
     "name": "stdout",
     "output_type": "stream",
     "text": [
      "Standard Deviation of a die roll: 1.707825127659933\n"
     ]
    }
   ],
   "source": [
    "import math\n",
    "\n",
    "# Standard deviation\n",
    "std_deviation = math.sqrt(variance)\n",
    "print(f\"Standard Deviation of a die roll: {std_deviation}\")  # Output: 1.7078\n"
   ]
  },
  {
   "cell_type": "markdown",
   "metadata": {},
   "source": [
    "### 28/1/25 -- Probability Distribution"
   ]
  },
  {
   "cell_type": "code",
   "execution_count": 9,
   "metadata": {},
   "outputs": [
    {
     "name": "stdout",
     "output_type": "stream",
     "text": [
      "Uniform distribution samples: [0.12328907 0.61832343 0.90057088 0.82048907 0.62960071 0.32336274\n",
      " 0.45130206 0.73954886 0.51118668 0.0443794 ]\n"
     ]
    }
   ],
   "source": [
    "from numpy.random import uniform\n",
    "\n",
    "# Simulating a uniform distribution\n",
    "uniform_values = uniform(0, 1, 10)\n",
    "print(f\"Uniform distribution samples: {uniform_values}\")\n"
   ]
  },
  {
   "cell_type": "markdown",
   "metadata": {},
   "source": [
    "### Cumulative Distribution Function (CDF)"
   ]
  },
  {
   "cell_type": "code",
   "execution_count": 10,
   "metadata": {},
   "outputs": [
    {
     "name": "stdout",
     "output_type": "stream",
     "text": [
      "CDF for N(0,1) at x=1.0: 0.8413447460685429\n"
     ]
    }
   ],
   "source": [
    "import scipy.stats as stats\n",
    "\n",
    "# CDF example for a normal distribution\n",
    "x = 1.0\n",
    "mean, std_dev = 0, 1\n",
    "cdf_value = stats.norm.cdf(x, mean, std_dev)\n",
    "print(f\"CDF for N(0,1) at x=1.0: {cdf_value}\")\n"
   ]
  },
  {
   "cell_type": "markdown",
   "metadata": {},
   "source": [
    "### Markov Chains"
   ]
  },
  {
   "cell_type": "code",
   "execution_count": 11,
   "metadata": {},
   "outputs": [
    {
     "name": "stdout",
     "output_type": "stream",
     "text": [
      "Current state: Sunny\n",
      "Current state: Sunny\n",
      "Current state: Rainy\n",
      "Current state: Sunny\n",
      "Current state: Rainy\n",
      "Current state: Rainy\n",
      "Current state: Sunny\n",
      "Current state: Sunny\n",
      "Current state: Sunny\n",
      "Current state: Sunny\n"
     ]
    }
   ],
   "source": [
    "import numpy as np\n",
    "\n",
    "# Weather model with 2 states: 0 = sunny, 1 = rainy\n",
    "transition_matrix = [[0.9, 0.1],  # From sunny to sunny (0.9), sunny to rainy (0.1)\n",
    "                     [0.5, 0.5]]  # From rainy to sunny (0.5), rainy to rainy (0.5)\n",
    "\n",
    "state = 0  # Starting with sunny weather\n",
    "steps = 10\n",
    "for _ in range(steps):\n",
    "    state = np.random.choice([0, 1], p=transition_matrix[state])\n",
    "    print(\"Current state:\", \"Sunny\" if state == 0 else \"Rainy\")\n"
   ]
  }
 ],
 "metadata": {
  "kernelspec": {
   "display_name": "Python 3",
   "language": "python",
   "name": "python3"
  },
  "language_info": {
   "codemirror_mode": {
    "name": "ipython",
    "version": 3
   },
   "file_extension": ".py",
   "mimetype": "text/x-python",
   "name": "python",
   "nbconvert_exporter": "python",
   "pygments_lexer": "ipython3",
   "version": "3.13.0"
  }
 },
 "nbformat": 4,
 "nbformat_minor": 2
}
